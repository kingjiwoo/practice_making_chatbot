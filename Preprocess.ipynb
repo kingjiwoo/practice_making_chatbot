{
  "nbformat": 4,
  "nbformat_minor": 0,
  "metadata": {
    "colab": {
      "provenance": [],
      "authorship_tag": "ABX9TyP+NfMV1Ei7Cw5ioQAObLzw",
      "include_colab_link": true
    },
    "kernelspec": {
      "name": "python3",
      "display_name": "Python 3"
    },
    "language_info": {
      "name": "python"
    }
  },
  "cells": [
    {
      "cell_type": "markdown",
      "metadata": {
        "id": "view-in-github",
        "colab_type": "text"
      },
      "source": [
        "<a href=\"https://colab.research.google.com/github/kingjiwoo/practice_making_chatbot/blob/main/Preprocess.ipynb\" target=\"_parent\"><img src=\"https://colab.research.google.com/assets/colab-badge.svg\" alt=\"Open In Colab\"/></a>"
      ]
    },
    {
      "cell_type": "code",
      "execution_count": null,
      "metadata": {
        "id": "P7KUpZPkMQhF"
      },
      "outputs": [],
      "source": [
        "from preprocess import *\n",
        "\n",
        "PATH = '/content/drive/MyDrive/data_in/ChatbotData.csv'\n",
        "VOCAB_PATH = '/content/drive/MyDrive/data_in/vocabulary.txt'\n",
        "\n",
        "inputs, outputs = load_data(PATH)\n",
        "char2idx, idx2char, vocab_size = load_vocabulary(PATH, VOCAB_PATH, tokenize_as_morph=False)\n",
        "\n",
        "index_inputs, input_seq_len = enc_processing(inputs, char2idx, tokenize_as_morph=False)\n",
        "index_outputs, output_seq_len = dec_output_processing(outputs, char2idx, tokenize_as_morph=False)\n",
        "index_targets = dec_target_processing(outputs, char2idx, tokenize_as_morph=False)"
      ]
    },
    {
      "cell_type": "code",
      "source": [
        "data_configs = {}\n",
        "data_configs['char2idx'] = char2idx\n",
        "data_configs['idx2char'] = idx2char\n",
        "data_configs['vocab_size'] = vocab_size\n",
        "data_configs['pad_symbol'] = PAD\n",
        "data_configs['std_symbol'] = STD\n",
        "data_configs['end_symbol'] = END\n",
        "data_configs['unk_symbol'] = UNK\n",
        "\n",
        "DATA_IN_PATH = '/content/drive/MyDrive/data_in/'\n",
        "TRAIN_INPUTS = 'train_input.npy'\n",
        "TRAIN_OUTPUTS = 'train_output.npy'\n",
        "TRAIN_TARGETS = 'train_targets.npy'\n",
        "DATA_CONFIGS = 'data_configs.json'\n",
        "\n",
        "np.save(open(DATA_IN_PATH + TRAIN_INPUTS, 'wb'), index_inputs)\n",
        "np.save(open(DATA_IN_PATH + TRAIN_OUTPUTS, 'wb'), index_outputs)\n",
        "np.save(open(DATA_IN_PATH + TRAIN_TARGETS, 'wb'), index_targets)\n",
        "\n",
        "json.dump(data_configs, open(DATA_IN_PATH + DATA_CONFIGS, 'w'))"
      ],
      "metadata": {
        "id": "jTSwn5QNMcrV"
      },
      "execution_count": null,
      "outputs": []
    },
    {
      "cell_type": "code",
      "source": [],
      "metadata": {
        "id": "VMb1MXcoMdZc"
      },
      "execution_count": null,
      "outputs": []
    }
  ]
}